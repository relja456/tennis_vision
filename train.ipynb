{
  "cells": [
    {
      "cell_type": "code",
      "execution_count": null,
      "id": "1d9622b7",
      "metadata": {
        "id": "1d9622b7"
      },
      "outputs": [],
      "source": [
        "import os\n",
        "\n",
        "import torch\n",
        "from torch.cuda.amp import GradScaler, autocast\n",
        "import torch.nn as nn\n",
        "import torch.optim as optim\n",
        "from torch.utils.data import DataLoader\n",
        "\n",
        "from ds_handlers.dataset_ball_only_triplet_frames import DatasetBallOnlyTripletFrames\n",
        "from models.tracknet.tracknet import TrackNet\n"
      ]
    },
    {
      "cell_type": "code",
      "source": [
        "# trying changes"
      ],
      "metadata": {
        "id": "wnmAVOoZVdDr"
      },
      "id": "wnmAVOoZVdDr",
      "execution_count": 2,
      "outputs": []
    },
    {
      "cell_type": "code",
      "execution_count": null,
      "id": "bc597e76",
      "metadata": {
        "id": "bc597e76"
      },
      "outputs": [],
      "source": [
        "\n",
        "os.environ[\"PYTORCH_CUDA_ALLOC_CONF\"] = \"expandable_segments:True\""
      ]
    },
    {
      "cell_type": "code",
      "execution_count": null,
      "id": "0e7eee00",
      "metadata": {
        "id": "0e7eee00"
      },
      "outputs": [],
      "source": [
        "# OPTIONAL -> DOWNLOADING DATASET FROM GDRIVE\n",
        "# !pip -q install gdown\n",
        "# !gdown --id 1DQ3ZbvokTsgOq6x-ay6O8U2W4a8e3LFw -O Dataset.zip\n",
        "# !unzip Dataset.zip"
      ]
    },
    {
      "cell_type": "code",
      "execution_count": null,
      "id": "99f476cb",
      "metadata": {
        "id": "99f476cb"
      },
      "outputs": [],
      "source": [
        "device = torch.device(\"cuda\" if torch.cuda.is_available() else \"cpu\")"
      ]
    },
    {
      "cell_type": "code",
      "execution_count": null,
      "id": "4cff1a10",
      "metadata": {
        "id": "4cff1a10"
      },
      "outputs": [],
      "source": [
        "model = TrackNet(in_channels=9, num_bins=1).to(device)"
      ]
    },
    {
      "cell_type": "code",
      "execution_count": null,
      "id": "d4639879",
      "metadata": {
        "id": "d4639879"
      },
      "outputs": [],
      "source": [
        "DATASET_ROOT_PATH = 'NEED_TO_FILL_THIS!!!!!!!!'\n",
        "\n",
        "\n",
        "train_ds = DatasetBallOnlyTripletFrames(DATASET_ROOT_PATH, out_size=(352, 640))\n",
        "val_split = int(len(train_ds) * 0.1)\n",
        "train_subset, val_subset = torch.utils.data.random_split(\n",
        "    train_ds, [len(train_ds) - val_split, val_split], generator=torch.Generator().manual_seed(42)\n",
        ")\n",
        "\n",
        "train_loader = DataLoader(train_subset, batch_size=16, shuffle=True, num_workers=2, pin_memory=True, persistent_workers=True)\n",
        "val_loader = DataLoader(val_subset, batch_size=16, shuffle=False, num_workers=2, pin_memory=True, persistent_workers=True)"
      ]
    },
    {
      "cell_type": "code",
      "execution_count": null,
      "id": "c92f2e80",
      "metadata": {
        "id": "c92f2e80"
      },
      "outputs": [],
      "source": [
        "optimizer = optim.AdamW(model.parameters(), lr=2e-4, weight_decay=1e-4)\n",
        "scheduler = optim.lr_scheduler.CosineAnnealingLR(optimizer, T_max=20)\n",
        "scaler = GradScaler(enabled=torch.cuda.is_available())"
      ]
    }
  ],
  "metadata": {
    "kernelspec": {
      "display_name": "Python 3",
      "language": "python",
      "name": "python3"
    },
    "language_info": {
      "name": "python",
      "version": "3.13.7"
    },
    "colab": {
      "provenance": []
    }
  },
  "nbformat": 4,
  "nbformat_minor": 5
}